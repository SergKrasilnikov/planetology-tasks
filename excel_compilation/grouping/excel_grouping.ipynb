{
 "cells": [
  {
   "cell_type": "code",
   "execution_count": 6,
   "id": "22c1c4de",
   "metadata": {},
   "outputs": [],
   "source": [
    "import pandas as pd"
   ]
  },
  {
   "cell_type": "code",
   "execution_count": 12,
   "id": "cac15d3c",
   "metadata": {},
   "outputs": [],
   "source": [
    "colums = ['FID', 'Diameter', 'Slope_MAX', 'Slope_MED', 'Slope_MEAN']"
   ]
  },
  {
   "cell_type": "code",
   "execution_count": 14,
   "id": "3e16f05c",
   "metadata": {},
   "outputs": [],
   "source": [
    "Site_1 = pd.read_excel('Pole.xlsx', usecols=colums)"
   ]
  },
  {
   "cell_type": "code",
   "execution_count": 17,
   "id": "8f4d714d",
   "metadata": {},
   "outputs": [
    {
     "data": {
      "text/html": [
       "<div>\n",
       "<style scoped>\n",
       "    .dataframe tbody tr th:only-of-type {\n",
       "        vertical-align: middle;\n",
       "    }\n",
       "\n",
       "    .dataframe tbody tr th {\n",
       "        vertical-align: top;\n",
       "    }\n",
       "\n",
       "    .dataframe thead th {\n",
       "        text-align: right;\n",
       "    }\n",
       "</style>\n",
       "<table border=\"1\" class=\"dataframe\">\n",
       "  <thead>\n",
       "    <tr style=\"text-align: right;\">\n",
       "      <th></th>\n",
       "      <th>FID</th>\n",
       "      <th>Diameter</th>\n",
       "      <th>Slope_MAX</th>\n",
       "      <th>Slope_MED</th>\n",
       "      <th>Slope_MEAN</th>\n",
       "    </tr>\n",
       "  </thead>\n",
       "  <tbody>\n",
       "    <tr>\n",
       "      <th>0</th>\n",
       "      <td>0</td>\n",
       "      <td>15.9647</td>\n",
       "      <td>28.8431</td>\n",
       "      <td>10.7492</td>\n",
       "      <td>12.19775</td>\n",
       "    </tr>\n",
       "    <tr>\n",
       "      <th>1</th>\n",
       "      <td>1</td>\n",
       "      <td>47.6098</td>\n",
       "      <td>28.0980</td>\n",
       "      <td>15.9479</td>\n",
       "      <td>14.68007</td>\n",
       "    </tr>\n",
       "    <tr>\n",
       "      <th>2</th>\n",
       "      <td>2</td>\n",
       "      <td>23.2351</td>\n",
       "      <td>26.0556</td>\n",
       "      <td>13.3116</td>\n",
       "      <td>13.02573</td>\n",
       "    </tr>\n",
       "    <tr>\n",
       "      <th>3</th>\n",
       "      <td>3</td>\n",
       "      <td>31.1647</td>\n",
       "      <td>24.8848</td>\n",
       "      <td>13.8912</td>\n",
       "      <td>13.09701</td>\n",
       "    </tr>\n",
       "    <tr>\n",
       "      <th>4</th>\n",
       "      <td>4</td>\n",
       "      <td>55.4062</td>\n",
       "      <td>35.7742</td>\n",
       "      <td>15.1184</td>\n",
       "      <td>13.96991</td>\n",
       "    </tr>\n",
       "  </tbody>\n",
       "</table>\n",
       "</div>"
      ],
      "text/plain": [
       "   FID  Diameter  Slope_MAX  Slope_MED  Slope_MEAN\n",
       "0    0   15.9647    28.8431    10.7492    12.19775\n",
       "1    1   47.6098    28.0980    15.9479    14.68007\n",
       "2    2   23.2351    26.0556    13.3116    13.02573\n",
       "3    3   31.1647    24.8848    13.8912    13.09701\n",
       "4    4   55.4062    35.7742    15.1184    13.96991"
      ]
     },
     "execution_count": 17,
     "metadata": {},
     "output_type": "execute_result"
    }
   ],
   "source": [
    "Site_1.head()"
   ]
  },
  {
   "cell_type": "code",
   "execution_count": 43,
   "id": "11b28c7e",
   "metadata": {},
   "outputs": [],
   "source": [
    "index = \"MAX\""
   ]
  },
  {
   "cell_type": "code",
   "execution_count": 74,
   "id": "2a520239",
   "metadata": {
    "scrolled": true
   },
   "outputs": [
    {
     "data": {
      "text/plain": [
       "'Site_1.Slope_MAX'"
      ]
     },
     "execution_count": 74,
     "metadata": {},
     "output_type": "execute_result"
    }
   ],
   "source": [
    "fr'Site_1.Slope_{index}'"
   ]
  },
  {
   "cell_type": "code",
   "execution_count": 80,
   "id": "11ba3fbd",
   "metadata": {},
   "outputs": [
    {
     "data": {
      "text/html": [
       "<div>\n",
       "<style scoped>\n",
       "    .dataframe tbody tr th:only-of-type {\n",
       "        vertical-align: middle;\n",
       "    }\n",
       "\n",
       "    .dataframe tbody tr th {\n",
       "        vertical-align: top;\n",
       "    }\n",
       "\n",
       "    .dataframe thead th {\n",
       "        text-align: right;\n",
       "    }\n",
       "</style>\n",
       "<table border=\"1\" class=\"dataframe\">\n",
       "  <thead>\n",
       "    <tr style=\"text-align: right;\">\n",
       "      <th></th>\n",
       "      <th>range</th>\n",
       "      <th>values</th>\n",
       "    </tr>\n",
       "  </thead>\n",
       "  <tbody>\n",
       "    <tr>\n",
       "      <th>0</th>\n",
       "      <td>&gt; 35</td>\n",
       "      <td>0</td>\n",
       "    </tr>\n",
       "    <tr>\n",
       "      <th>1</th>\n",
       "      <td>25 - 35</td>\n",
       "      <td>0</td>\n",
       "    </tr>\n",
       "    <tr>\n",
       "      <th>2</th>\n",
       "      <td>15 - 25</td>\n",
       "      <td>30</td>\n",
       "    </tr>\n",
       "    <tr>\n",
       "      <th>3</th>\n",
       "      <td>10 - 15</td>\n",
       "      <td>438</td>\n",
       "    </tr>\n",
       "    <tr>\n",
       "      <th>4</th>\n",
       "      <td>&lt; 10</td>\n",
       "      <td>5054</td>\n",
       "    </tr>\n",
       "  </tbody>\n",
       "</table>\n",
       "</div>"
      ],
      "text/plain": [
       "     range  values\n",
       "0     > 35       0\n",
       "1  25 - 35       0\n",
       "2  15 - 25      30\n",
       "3  10 - 15     438\n",
       "4     < 10    5054"
      ]
     },
     "execution_count": 80,
     "metadata": {},
     "output_type": "execute_result"
    }
   ],
   "source": [
    "range_1 = sum(Site_1.Slope_MEAN < 10)\n",
    "range_2 = sum((Site_1.Slope_MEAN >= 10) & (Site_1.Slope_MEAN < 15))\n",
    "range_3 = sum((Site_1.Slope_MEAN >= 15) & (Site_1.Slope_MEAN < 25))\n",
    "range_4 = sum((Site_1.Slope_MEAN >= 25) & (Site_1.Slope_MEAN < 35))\n",
    "range_5 = sum(Site_1.Slope_MEAN >= 35)\n",
    "\n",
    "dict = {\"range\":[\"> 35\", \"25 - 35\", \"15 - 25\", \"10 - 15\", \"< 10\"], \"values\":[range_5, range_4, range_3, range_2, range_1]}\n",
    "results = pd.DataFrame(dict)\n",
    "results"
   ]
  }
 ],
 "metadata": {
  "kernelspec": {
   "display_name": "Python 3 (ipykernel)",
   "language": "python",
   "name": "python3"
  },
  "language_info": {
   "codemirror_mode": {
    "name": "ipython",
    "version": 3
   },
   "file_extension": ".py",
   "mimetype": "text/x-python",
   "name": "python",
   "nbconvert_exporter": "python",
   "pygments_lexer": "ipython3",
   "version": "3.10.9"
  }
 },
 "nbformat": 4,
 "nbformat_minor": 5
}
