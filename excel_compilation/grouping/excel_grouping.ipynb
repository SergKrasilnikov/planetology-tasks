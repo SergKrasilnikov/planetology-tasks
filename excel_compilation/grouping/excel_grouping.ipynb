{
 "cells": [
  {
   "cell_type": "code",
   "execution_count": 1,
   "id": "22c1c4de",
   "metadata": {},
   "outputs": [],
   "source": [
    "import pandas as pd"
   ]
  },
  {
   "cell_type": "code",
   "execution_count": null,
   "id": "24002b3d",
   "metadata": {},
   "outputs": [],
   "source": [
    "#GROUPING SLOPES VALUES AND CALCULATING MEAN AND MAXIMUM VALUES"
   ]
  },
  {
   "cell_type": "code",
   "execution_count": 4,
   "id": "c44c0b77",
   "metadata": {},
   "outputs": [],
   "source": [
    "# Read Excel file with multiple sheets\n",
    "xls = pd.read_excel(\"Pole.xlsx\", sheet_name=['Site_1', 'Site_2', 'Site_3'])\n",
    "\n",
    "# Access individual sheets using sheet names\n",
    "sheet1_df = xls['Site_1']\n",
    "sheet2_df = xls['Site_2']\n",
    "sheet3_df = xls['Site_3']"
   ]
  },
  {
   "cell_type": "code",
   "execution_count": 5,
   "id": "cac15d3c",
   "metadata": {},
   "outputs": [],
   "source": [
    "# Read Excel file with multiple sheets + select specific columns from multiple sheets\n",
    "#sheet1_df = pd.read_excel('Pole.xlsx', sheet_name=\"Site_1\")\n",
    "sheet1_df = xls['Site_1'].loc[:, ['FID', 'Diameter', 'Slope_MAX', 'Slope_MED']]\n",
    "sheet2_df = xls['Site_2'].loc[:, ['FID', 'Diameter', 'Slope_MAX', 'Slope_MED']]\n",
    "sheet3_df = xls['Site_3'].loc[:, ['FID', 'Diameter', 'Slope_MAX', 'Slope_MED']]"
   ]
  },
  {
   "cell_type": "code",
   "execution_count": 6,
   "id": "0b97452a",
   "metadata": {},
   "outputs": [
    {
     "data": {
      "text/html": [
       "<div>\n",
       "<style scoped>\n",
       "    .dataframe tbody tr th:only-of-type {\n",
       "        vertical-align: middle;\n",
       "    }\n",
       "\n",
       "    .dataframe tbody tr th {\n",
       "        vertical-align: top;\n",
       "    }\n",
       "\n",
       "    .dataframe thead th {\n",
       "        text-align: right;\n",
       "    }\n",
       "</style>\n",
       "<table border=\"1\" class=\"dataframe\">\n",
       "  <thead>\n",
       "    <tr style=\"text-align: right;\">\n",
       "      <th></th>\n",
       "      <th>FID</th>\n",
       "      <th>Diameter</th>\n",
       "      <th>Slope_MAX</th>\n",
       "      <th>Slope_MED</th>\n",
       "    </tr>\n",
       "  </thead>\n",
       "  <tbody>\n",
       "    <tr>\n",
       "      <th>0</th>\n",
       "      <td>0</td>\n",
       "      <td>15.9647</td>\n",
       "      <td>28.8431</td>\n",
       "      <td>10.7492</td>\n",
       "    </tr>\n",
       "    <tr>\n",
       "      <th>1</th>\n",
       "      <td>1</td>\n",
       "      <td>47.6098</td>\n",
       "      <td>28.0980</td>\n",
       "      <td>15.9479</td>\n",
       "    </tr>\n",
       "    <tr>\n",
       "      <th>2</th>\n",
       "      <td>2</td>\n",
       "      <td>23.2351</td>\n",
       "      <td>26.0556</td>\n",
       "      <td>13.3116</td>\n",
       "    </tr>\n",
       "    <tr>\n",
       "      <th>3</th>\n",
       "      <td>3</td>\n",
       "      <td>31.1647</td>\n",
       "      <td>24.8848</td>\n",
       "      <td>13.8912</td>\n",
       "    </tr>\n",
       "    <tr>\n",
       "      <th>4</th>\n",
       "      <td>4</td>\n",
       "      <td>55.4062</td>\n",
       "      <td>35.7742</td>\n",
       "      <td>15.1184</td>\n",
       "    </tr>\n",
       "  </tbody>\n",
       "</table>\n",
       "</div>"
      ],
      "text/plain": [
       "   FID  Diameter  Slope_MAX  Slope_MED\n",
       "0    0   15.9647    28.8431    10.7492\n",
       "1    1   47.6098    28.0980    15.9479\n",
       "2    2   23.2351    26.0556    13.3116\n",
       "3    3   31.1647    24.8848    13.8912\n",
       "4    4   55.4062    35.7742    15.1184"
      ]
     },
     "execution_count": 6,
     "metadata": {},
     "output_type": "execute_result"
    }
   ],
   "source": [
    "sheet1_df.head()"
   ]
  },
  {
   "cell_type": "code",
   "execution_count": 46,
   "id": "1ae097b2",
   "metadata": {},
   "outputs": [
    {
     "name": "stdout",
     "output_type": "stream",
     "text": [
      "MED results:\n",
      "     range  values\n",
      "0     > 35       1\n",
      "1  25 - 35       2\n",
      "2  15 - 25      18\n",
      "3  10 - 15     211\n",
      "4     < 10    5746\n",
      "\n",
      "MAX results:\n",
      "     range  values\n",
      "0     > 35       6\n",
      "1  25 - 35      24\n",
      "2  15 - 25     877\n",
      "3  10 - 15    1711\n",
      "4     < 10    3360\n"
     ]
    }
   ],
   "source": [
    "def slope_function(x):\n",
    "    range_1 = sum(x < 10)\n",
    "    range_2 = sum((x >= 10) & (x < 15))\n",
    "    range_3 = sum((x >= 15) & (x < 25))\n",
    "    range_4 = sum((x >= 25) & (x < 35))\n",
    "    range_5 = sum(x >= 35)\n",
    "\n",
    "    dict = {\"range\":[\"> 35\", \"25 - 35\", \"15 - 25\", \"10 - 15\", \"< 10\"], \"values\":[range_5, range_4, range_3, range_2, range_1]}\n",
    "    results = pd.DataFrame(dict)\n",
    "    results\n",
    "    return results\n",
    "\n",
    "results_MED = slope_function(sheet2_df.Slope_MED)\n",
    "print('MED results:')\n",
    "print(results_MED.head())\n",
    "print()\n",
    "results_MAX = slope_function(sheet2_df.Slope_MAX)\n",
    "print('MAX results:')\n",
    "print(results_MAX)"
   ]
  },
  {
   "cell_type": "code",
   "execution_count": null,
   "id": "4247d62f",
   "metadata": {},
   "outputs": [],
   "source": []
  },
  {
   "cell_type": "code",
   "execution_count": null,
   "id": "ff8e9212",
   "metadata": {},
   "outputs": [],
   "source": [
    "#GROUPING DEPTH TO DIAMETER VALUES"
   ]
  },
  {
   "cell_type": "code",
   "execution_count": 7,
   "id": "de6423f6",
   "metadata": {},
   "outputs": [],
   "source": [
    "#colums = ['FID', 'd_D']\n",
    "#Site_1 = pd.read_excel('Pole.xlsx', usecols=colums)\n",
    "\n",
    "sheet1_dD_df = xls['Site_1'].loc[:, ['FID', 'd_D']]\n",
    "sheet2_dD_df = xls['Site_2'].loc[:, ['FID', 'd_D']]\n",
    "sheet3_dD_df = xls['Site_3'].loc[:, ['FID', 'd_D']]"
   ]
  },
  {
   "cell_type": "code",
   "execution_count": 8,
   "id": "5d955886",
   "metadata": {},
   "outputs": [
    {
     "data": {
      "text/html": [
       "<div>\n",
       "<style scoped>\n",
       "    .dataframe tbody tr th:only-of-type {\n",
       "        vertical-align: middle;\n",
       "    }\n",
       "\n",
       "    .dataframe tbody tr th {\n",
       "        vertical-align: top;\n",
       "    }\n",
       "\n",
       "    .dataframe thead th {\n",
       "        text-align: right;\n",
       "    }\n",
       "</style>\n",
       "<table border=\"1\" class=\"dataframe\">\n",
       "  <thead>\n",
       "    <tr style=\"text-align: right;\">\n",
       "      <th></th>\n",
       "      <th>FID</th>\n",
       "      <th>d_D</th>\n",
       "    </tr>\n",
       "  </thead>\n",
       "  <tbody>\n",
       "    <tr>\n",
       "      <th>0</th>\n",
       "      <td>0</td>\n",
       "      <td>0.101371</td>\n",
       "    </tr>\n",
       "    <tr>\n",
       "      <th>1</th>\n",
       "      <td>1</td>\n",
       "      <td>0.097912</td>\n",
       "    </tr>\n",
       "    <tr>\n",
       "      <th>2</th>\n",
       "      <td>2</td>\n",
       "      <td>0.074413</td>\n",
       "    </tr>\n",
       "    <tr>\n",
       "      <th>3</th>\n",
       "      <td>3</td>\n",
       "      <td>0.105035</td>\n",
       "    </tr>\n",
       "    <tr>\n",
       "      <th>4</th>\n",
       "      <td>4</td>\n",
       "      <td>0.071459</td>\n",
       "    </tr>\n",
       "  </tbody>\n",
       "</table>\n",
       "</div>"
      ],
      "text/plain": [
       "   FID       d_D\n",
       "0    0  0.101371\n",
       "1    1  0.097912\n",
       "2    2  0.074413\n",
       "3    3  0.105035\n",
       "4    4  0.071459"
      ]
     },
     "execution_count": 8,
     "metadata": {},
     "output_type": "execute_result"
    }
   ],
   "source": [
    "sheet3_dD_df.head()"
   ]
  },
  {
   "cell_type": "code",
   "execution_count": 11,
   "id": "4180442a",
   "metadata": {},
   "outputs": [
    {
     "name": "stdout",
     "output_type": "stream",
     "text": [
      "Depth to diameter ratio:\n",
      "        range  values\n",
      "0       > 0.2      10\n",
      "1  0.14 - 0.2      17\n",
      "2  0.1 - 0.14      76\n",
      "3  0.08 - 0.1     201\n",
      "4      < 0.08    5674\n"
     ]
    }
   ],
   "source": [
    "def dD_function(x):\n",
    "    range_1 = sum(x < 0.08)\n",
    "    range_2 = sum((x >= 0.08) & (x < 0.1))\n",
    "    range_3 = sum((x >= 0.1) & (x < 0.14))\n",
    "    range_4 = sum((x >= 0.14) & (x < 0.2))\n",
    "    range_5 = sum(x >= 0.2)\n",
    "\n",
    "    dict = {\"range\":[\"> 0.2\", \"0.14 - 0.2\", \"0.1 - 0.14\", \"0.08 - 0.1\", \"< 0.08\"], \"values\":[range_5, range_4, range_3, range_2, range_1]}\n",
    "    results = pd.DataFrame(dict)\n",
    "    results\n",
    "    return results\n",
    "\n",
    "results_dD = dD_function(sheet2_dD_df.d_D)\n",
    "print('Depth to diameter ratio:')\n",
    "print(results_dD)"
   ]
  },
  {
   "cell_type": "code",
   "execution_count": null,
   "id": "e66e6e63",
   "metadata": {},
   "outputs": [],
   "source": [
    "#EXTRA GROUPING OF DEPTH TO DIAMETER RATIO"
   ]
  },
  {
   "cell_type": "code",
   "execution_count": 12,
   "id": "a9641704",
   "metadata": {},
   "outputs": [
    {
     "name": "stdout",
     "output_type": "stream",
     "text": [
      "Depth to diameter ratio wide range:\n",
      "          range  values\n",
      "0        > 0.33       2\n",
      "1    0.3 - 0.33       0\n",
      "2    0.27 - 0.3       0\n",
      "3   0.24 - 0.24       4\n",
      "4   0.27 - 0.24       4\n",
      "5   0.18 - 0.21       3\n",
      "6   0.15 - 0.18      10\n",
      "7   0.12 - 0.15      20\n",
      "8   0.09 - 0.12     127\n",
      "9   0.06 - 0.09     657\n",
      "10  0.03 - 0.06    2755\n",
      "11       < 0.03    2396\n"
     ]
    }
   ],
   "source": [
    "def dD_function(x):\n",
    "    range_1 = sum(x < 0.03)\n",
    "    range_2 = sum((x >= 0.03) & (x < 0.06))\n",
    "    range_3 = sum((x >= 0.06) & (x < 0.09))\n",
    "    range_4 = sum((x >= 0.09) & (x < 0.12))\n",
    "    range_5 = sum((x >= 0.12) & (x < 0.15))\n",
    "    range_6 = sum((x >= 0.15) & (x < 0.18))\n",
    "    range_7 = sum((x >= 0.18) & (x < 0.21))\n",
    "    range_8 = sum((x >= 0.21) & (x < 0.24))\n",
    "    range_9 = sum((x >= 0.24) & (x < 0.27))\n",
    "    range_10 = sum((x >= 0.27) & (x < 0.3))\n",
    "    range_11 = sum((x >= 0.3) & (x < 0.33))\n",
    "    range_12 = sum(x >= 0.33)\n",
    "\n",
    "    dict = {\"range\":[\"> 0.33\", \"0.3 - 0.33\", \"0.27 - 0.3\", \"0.24 - 0.24\", \"0.27 - 0.24\", \"0.18 - 0.21\", \"0.15 - 0.18\", \"0.12 - 0.15\", \"0.09 - 0.12\", \"0.06 - 0.09\", \"0.03 - 0.06\", \"< 0.03\"], \"values\":[range_12, range_11, range_10, range_9, range_8, range_7, range_6, range_5, range_4, range_3, range_2, range_1]}\n",
    "    results = pd.DataFrame(dict)\n",
    "    results\n",
    "    return results\n",
    "\n",
    "results_dD_wide = dD_function(sheet2_dD_df.d_D)\n",
    "print('Depth to diameter ratio wide range:')\n",
    "print(results_dD_wide)"
   ]
  }
 ],
 "metadata": {
  "kernelspec": {
   "display_name": "Python 3 (ipykernel)",
   "language": "python",
   "name": "python3"
  },
  "language_info": {
   "codemirror_mode": {
    "name": "ipython",
    "version": 3
   },
   "file_extension": ".py",
   "mimetype": "text/x-python",
   "name": "python",
   "nbconvert_exporter": "python",
   "pygments_lexer": "ipython3",
   "version": "3.10.9"
  }
 },
 "nbformat": 4,
 "nbformat_minor": 5
}
